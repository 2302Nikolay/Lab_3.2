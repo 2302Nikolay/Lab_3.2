{
 "cells": [
  {
   "attachments": {},
   "cell_type": "markdown",
   "metadata": {},
   "source": [
    "# Индивидуальное задание номер 1."
   ]
  },
  {
   "attachments": {},
   "cell_type": "markdown",
   "metadata": {},
   "source": [
    "## Уплотнить заданную матрицу, удаляя из нее строки и столбцы, в которых есть хотя бы $1$ нуль. Найти номер первой из строк, содержащих хотя бы один положительный элемент. "
   ]
  },
  {
   "attachments": {},
   "cell_type": "markdown",
   "metadata": {},
   "source": [
    "### Импортируем нужную нам библиотеку"
   ]
  },
  {
   "cell_type": "code",
   "execution_count": 73,
   "metadata": {},
   "outputs": [],
   "source": [
    "import numpy as np"
   ]
  },
  {
   "cell_type": "code",
   "execution_count": 74,
   "metadata": {},
   "outputs": [
    {
     "name": "stdout",
     "output_type": "stream",
     "text": [
      "[[-1 -4  1 -5 -4]\n",
      " [-5 -3  4 -5  4]\n",
      " [ 0  2  0  0 -1]\n",
      " [-5  2 -1 -1 -3]\n",
      " [-2  3 -2  4 -2]]\n"
     ]
    }
   ],
   "source": [
    "# Создание случайной матрицы\n",
    "rows = 5\n",
    "cols = 5\n",
    "matrix = np.random.randint(-5, 5, size=(rows, cols))\n",
    "print(matrix)"
   ]
  },
  {
   "attachments": {},
   "cell_type": "markdown",
   "metadata": {},
   "source": [
    "### Создаем функцию, которая будет уплотнять нашу матрицу."
   ]
  },
  {
   "cell_type": "code",
   "execution_count": 75,
   "metadata": {},
   "outputs": [],
   "source": [
    "def remove_zero_rows_cols(matrix):\n",
    "    row_indices = np.where(~np.any(matrix == 0, axis=1))[0]\n",
    "    col_indices = np.where(~np.any(matrix == 0, axis=0))[0]\n",
    "    result_matrix = matrix[row_indices][:, col_indices]\n",
    "\n",
    "    return result_matrix"
   ]
  },
  {
   "attachments": {},
   "cell_type": "markdown",
   "metadata": {},
   "source": [
    "### Создаём функцию, которая будет находить первую строку с хотя бы одним положительным элементом."
   ]
  },
  {
   "cell_type": "code",
   "execution_count": 76,
   "metadata": {},
   "outputs": [],
   "source": [
    "def find_first_positive_row(matrix):\n",
    "    row_indices = np.where(np.any(matrix > 0, axis=1))[0]\n",
    "    if len(row_indices) > 0:\n",
    "        return row_indices[0]\n",
    "    else:\n",
    "        return -1"
   ]
  },
  {
   "cell_type": "markdown",
   "metadata": {},
   "source": [
    "### Используем наши функции и выводим уплотнённую матрицу."
   ]
  },
  {
   "cell_type": "code",
   "execution_count": 77,
   "metadata": {},
   "outputs": [
    {
     "name": "stdout",
     "output_type": "stream",
     "text": [
      "Уплотненная матрица:\n",
      "[[-4 -4]\n",
      " [-3  4]\n",
      " [ 2 -3]\n",
      " [ 3 -2]]\n",
      "Номер первой строки с положительными элементами: 1\n"
     ]
    }
   ],
   "source": [
    "\n",
    "# Уплотнение матрицы\n",
    "result_matrix = remove_zero_rows_cols(matrix)\n",
    "print(\"Уплотненная матрица:\")\n",
    "print(result_matrix)\n",
    "\n",
    "# Поиск номера первой строки с положительными элементами\n",
    "first_positive_row = find_first_positive_row(result_matrix)\n",
    "print(\"Номер первой строки с положительными элементами:\", first_positive_row)"
   ]
  }
 ],
 "metadata": {
  "kernelspec": {
   "display_name": "Python 3 (ipykernel)",
   "language": "python",
   "name": "python3"
  },
  "language_info": {
   "codemirror_mode": {
    "name": "ipython",
    "version": 3
   },
   "file_extension": ".py",
   "mimetype": "text/x-python",
   "name": "python",
   "nbconvert_exporter": "python",
   "pygments_lexer": "ipython3",
   "version": "3.9.12"
  },
  "orig_nbformat": 4
 },
 "nbformat": 4,
 "nbformat_minor": 2
}
